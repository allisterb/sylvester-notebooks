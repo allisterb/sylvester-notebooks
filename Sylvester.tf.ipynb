{
 "cells": [
  {
   "cell_type": "code",
   "execution_count": 4,
   "metadata": {},
   "outputs": [],
   "source": [
    "// Use the Sylvester arithmetic and collection packages\n",
    "#load \"Paket.fsx\"\n",
    "Paket.Package[\"Sylvester.tf\"; \"Sylvester.tf.Native.Win\"] \n",
    "#load \"Paket.Generated.Refs.fsx\""
   ]
  },
  {
   "cell_type": "code",
   "execution_count": 5,
   "metadata": {},
   "outputs": [],
   "source": [
    "// Open Sylvester types and modules\n",
    "open Sylvester.tf"
   ]
  },
  {
   "cell_type": "code",
   "execution_count": 6,
   "metadata": {},
   "outputs": [
    {
     "name": "stderr",
     "output_type": "stream",
     "text": [
      "The module/namespace 'Sylvester.Arithmetic.Base10' from compilation unit 'Sylvester.Provider.Arithmetic.Runtime' did not contain the namespace, module or type 'Number'"
     ]
    }
   ],
   "source": [
    "// Set default graph to have ten inputs \n",
    "defaultGraph<-Graph<ten, one>()"
   ]
  },
  {
   "cell_type": "code",
   "execution_count": 7,
   "metadata": {},
   "outputs": [
    {
     "name": "stderr",
     "output_type": "stream",
     "text": [
      "The module/namespace 'Sylvester.Arithmetic.Base10' from compilation unit 'Sylvester.Provider.Arithmetic.Runtime' did not contain the namespace, module or type 'Number'\r\n",
      "The module/namespace 'Sylvester.Arithmetic.Base10' from compilation unit 'Sylvester.Provider.Arithmetic.Runtime' did not contain the namespace, module or type 'Number'\r\n",
      "The module/namespace 'Sylvester.Arithmetic.Base10' from compilation unit 'Sylvester.Provider.Arithmetic.Runtime' did not contain the namespace, module or type 'Number'"
     ]
    }
   ],
   "source": [
    "// Create vector input placeholders\n",
    "let v0 = Vec<dim<100>>(\"v\")\n",
    "let v1 = Vec<dim<200>>(\"v\")\n",
    "let v3 = Vec<dim<100>>(\"v\")\n",
    "v0, v1, v3"
   ]
  },
  {
   "cell_type": "code",
   "execution_count": 37,
   "metadata": {},
   "outputs": [
    {
     "data": {
      "text/plain": [
       "Vector<100, TF_DOUBLE>"
      ]
     },
     "execution_count": 37,
     "metadata": {},
     "output_type": "execute_result"
    }
   ],
   "source": [
    "// Vector operations are type-checked at compile-time\n",
    "let sum1 = v0 + v3\n",
    "sum1"
   ]
  },
  {
   "cell_type": "code",
   "execution_count": 38,
   "metadata": {},
   "outputs": [
    {
     "name": "stderr",
     "output_type": "stream",
     "text": [
      "Type constraint mismatch. The type \n",
      "    'Sylvester.tf.Vector.Vector<Sylvester.Arithmetic.dim<200>,Microsoft.FSharp.Core.float>'    \n",
      "is not compatible with type\n",
      "    'Sylvester.tf.Vector.Vector<Sylvester.Arithmetic.dim<100>,Microsoft.FSharp.Core.float>'    \n"
     ]
    }
   ],
   "source": [
    "let sum1' = v0 + v1"
   ]
  },
  {
   "cell_type": "code",
   "execution_count": 39,
   "metadata": {},
   "outputs": [
    {
     "data": {
      "text/plain": [
       "(Matrix<100, 50, TF_DOUBLE>, Matrix<200, 100, TF_DOUBLE>,\n",
       " Matrix<100, 50, TF_DOUBLE>)"
      ]
     },
     "execution_count": 39,
     "metadata": {},
     "output_type": "execute_result"
    }
   ],
   "source": [
    "// Create matrix input matrix placeholders\n",
    "let m0 = Mat<dim<100>, dim<50>>(\"m\")\n",
    "let m1 = Mat<dim<200>, dim<100>>(\"m\")\n",
    "let m2 = Mat<dim<100>, dim<50>>(\"m\")\n",
    "m0, m1, m2"
   ]
  },
  {
   "cell_type": "code",
   "execution_count": 41,
   "metadata": {},
   "outputs": [
    {
     "data": {
      "text/plain": [
       "Matrix<100, 50, TF_DOUBLE>"
      ]
     },
     "execution_count": 41,
     "metadata": {},
     "output_type": "execute_result"
    }
   ],
   "source": [
    "// Matrix ops are type checked\n",
    "let sum2 = m0 + m2\n",
    "sum2"
   ]
  },
  {
   "cell_type": "code",
   "execution_count": 42,
   "metadata": {},
   "outputs": [
    {
     "data": {
      "text/plain": [
       "Matrix<50, 60, TF_DOUBLE>"
      ]
     },
     "execution_count": 42,
     "metadata": {},
     "output_type": "execute_result"
    }
   ],
   "source": [
    "let m4 = Mat<dim<50>, dim<60>>(\"m4\")\n",
    "m4"
   ]
  },
  {
   "cell_type": "code",
   "execution_count": null,
   "metadata": {},
   "outputs": [],
   "source": [
    "let prod1 = m4 * m0"
   ]
  },
  {
   "cell_type": "code",
   "execution_count": 3,
   "metadata": {},
   "outputs": [
    {
     "data": {
      "text/html": [
       "<b><i>Ahoy matey!</i></b>"
      ],
      "text/plain": [
       "{ContentType = \"text/html\";\n",
       " Data = \"<b><i>Ahoy matey!</i></b>\";}"
      ]
     },
     "execution_count": 3,
     "metadata": {},
     "output_type": "execute_result"
    }
   ],
   "source": [
    "{ ContentType = \"text/html\"; Data = \"<b><i>Ahoy \" + \"matey\" + \"!</i></b>\" }"
   ]
  },
  {
   "cell_type": "code",
   "execution_count": null,
   "metadata": {},
   "outputs": [],
   "source": [
    "\n"
   ]
  },
  {
   "cell_type": "code",
   "execution_count": null,
   "metadata": {},
   "outputs": [],
   "source": []
  }
 ],
 "metadata": {
  "kernelspec": {
   "display_name": "F#",
   "language": "fsharp",
   "name": "ifsharp"
  },
  "language": "fsharp",
  "language_info": {
   "codemirror_mode": "",
   "file_extension": ".fs",
   "mimetype": "text/x-fsharp",
   "name": "fsharp",
   "nbconvert_exporter": "",
   "pygments_lexer": "",
   "version": "4.3.1.0"
  }
 },
 "nbformat": 4,
 "nbformat_minor": 2
}
